{
 "cells": [
  {
   "cell_type": "markdown",
   "metadata": {},
   "source": [
    "# Capstone Project - Predicting Severity of Car Crashes (Week 2)\n",
    "### Applied Data Science Capstone by IBM/Coursera"
   ]
  },
  {
   "cell_type": "markdown",
   "metadata": {},
   "source": [
    "## Table of contents\n",
    "* [Introduction: Business Problem](#introduction)\n",
    "* [Data](#data)\n",
    "* [Methodology](#methodology)\n",
    "* [Analysis](#analysis)\n",
    "* [Results and Discussion](#results)\n",
    "* [Conclusion](#conclusion)"
   ]
  },
  {
   "cell_type": "markdown",
   "metadata": {},
   "source": [
    "## Introduction: Business Problem <a name=\"introduction\"></a>"
   ]
  },
  {
   "cell_type": "markdown",
   "metadata": {},
   "source": [
    "The goal of this project will be to analyze trends and make predictive models for car crashes using data from the city of Seattle, Washington. The focus will be on general variables that can be applicable to other cities\n"
   ]
  },
  {
   "cell_type": "markdown",
   "metadata": {},
   "source": [
    "## Data <a name=\"data\"></a>"
   ]
  },
  {
   "cell_type": "markdown",
   "metadata": {},
   "source": [
    "This data was recorded by the Seattle Police Department from 2004 to the latest of May, 2020. It is a csv file containing 38 columns and 194,673 rows. It contains various information such as weather, date, location of each accident, etc.\n",
    "SEVERITYCODE is either 1 or 2, which described by SEVERITYDESC as being either a property only collision (1) or one that resulted in an injury (2). This will be the target value for the analysis.\n",
    "\n",
    "There will be 5 variables used for the analysis.\n",
    "INCDATE/INCDTTM is incident date and time. WEATHER indicates the weather conditions at the time of the incident with 11 conditions recorded. ROADCOND is condition of the road with 9 conditions and similarly, LIGHTCOND is the light conditions with 9 as well."
   ]
  },
  {
   "cell_type": "code",
   "execution_count": 1,
   "metadata": {},
   "outputs": [],
   "source": [
    "import pandas as pd\n",
    "import numpy as np\n",
    "from sklearn import preprocessing\n",
    "from sklearn.preprocessing import LabelEncoder\n",
    "import matplotlib.pyplot as plt\n",
    "%matplotlib inline\n",
    "import datetime\n",
    "import seaborn as sns"
   ]
  },
  {
   "cell_type": "code",
   "execution_count": 2,
   "metadata": {},
   "outputs": [
    {
     "name": "stderr",
     "output_type": "stream",
     "text": [
      "/home/jupyterlab/conda/envs/python/lib/python3.6/site-packages/IPython/core/interactiveshell.py:3072: DtypeWarning: Columns (33) have mixed types.Specify dtype option on import or set low_memory=False.\n",
      "  interactivity=interactivity, compiler=compiler, result=result)\n"
     ]
    },
    {
     "data": {
      "text/plain": [
       "SEVERITYCODE        int64\n",
       "X                 float64\n",
       "Y                 float64\n",
       "OBJECTID            int64\n",
       "INCKEY              int64\n",
       "COLDETKEY           int64\n",
       "REPORTNO           object\n",
       "STATUS             object\n",
       "ADDRTYPE           object\n",
       "INTKEY            float64\n",
       "LOCATION           object\n",
       "EXCEPTRSNCODE      object\n",
       "EXCEPTRSNDESC      object\n",
       "SEVERITYCODE.1      int64\n",
       "SEVERITYDESC       object\n",
       "COLLISIONTYPE      object\n",
       "PERSONCOUNT         int64\n",
       "PEDCOUNT            int64\n",
       "PEDCYLCOUNT         int64\n",
       "VEHCOUNT            int64\n",
       "INCDATE            object\n",
       "INCDTTM            object\n",
       "JUNCTIONTYPE       object\n",
       "SDOT_COLCODE        int64\n",
       "SDOT_COLDESC       object\n",
       "INATTENTIONIND     object\n",
       "UNDERINFL          object\n",
       "WEATHER            object\n",
       "ROADCOND           object\n",
       "LIGHTCOND          object\n",
       "PEDROWNOTGRNT      object\n",
       "SDOTCOLNUM        float64\n",
       "SPEEDING           object\n",
       "ST_COLCODE         object\n",
       "ST_COLDESC         object\n",
       "SEGLANEKEY          int64\n",
       "CROSSWALKKEY        int64\n",
       "HITPARKEDCAR       object\n",
       "dtype: object"
      ]
     },
     "execution_count": 2,
     "metadata": {},
     "output_type": "execute_result"
    }
   ],
   "source": [
    "path='https://s3.us.cloud-object-storage.appdomain.cloud/cf-courses-data/CognitiveClass/DP0701EN/version-2/Data-Collisions.csv'\n",
    "df = pd.read_csv(path)\n",
    "df.shape\n",
    "df.dtypes"
   ]
  },
  {
   "cell_type": "code",
   "execution_count": 3,
   "metadata": {},
   "outputs": [
    {
     "data": {
      "text/plain": [
       "SEVERITYCODE       0\n",
       "SEVERITYDESC       0\n",
       "INCDATE            0\n",
       "INCDTTM            0\n",
       "WEATHER         5081\n",
       "ROADCOND        5012\n",
       "LIGHTCOND       5170\n",
       "dtype: int64"
      ]
     },
     "execution_count": 3,
     "metadata": {},
     "output_type": "execute_result"
    }
   ],
   "source": [
    "df.drop(columns=['X','Y','OBJECTID','INCKEY','COLDETKEY','REPORTNO','STATUS','ADDRTYPE','INTKEY','LOCATION','EXCEPTRSNCODE','EXCEPTRSNDESC','SEVERITYCODE.1','COLLISIONTYPE','JUNCTIONTYPE','SDOT_COLCODE','SDOT_COLDESC','INATTENTIONIND','UNDERINFL','PEDROWNOTGRNT','SDOTCOLNUM','SPEEDING','ST_COLCODE','ST_COLDESC','SEGLANEKEY','CROSSWALKKEY',\n",
    "'HITPARKEDCAR', 'PERSONCOUNT','PEDCOUNT','PEDCYLCOUNT','VEHCOUNT'], inplace=True)\n",
    "df.isnull().sum()"
   ]
  },
  {
   "cell_type": "markdown",
   "metadata": {},
   "source": [
    "## Methodology <a name=\"methodology\"></a>"
   ]
  },
  {
   "cell_type": "markdown",
   "metadata": {},
   "source": [
    "The bulk of the data that will not be used was dropped from the dataframe. Null values from the variable used were also dropped. \n",
    "\n",
    "The values of the INCDATE and INCDTTM were not used directly. Values were converted to datetime format for Python from which the weekday and hour of the incident was obtained and put into separate columns. This was to see if the days of the week and hour of the day had significance, since these can be universal factors as well to traffic safety. \n",
    "\n",
    "The nature of the data features used in this analysis is categorical and discrete. The goal is to predict whether how severe of a crash in the category of 1 or 2 will result from the selected features. As such, the algorithms selected were K Nearest Neighbor, Logistic Regression and Decision Tree. \n",
    "\n"
   ]
  },
  {
   "cell_type": "code",
   "execution_count": 4,
   "metadata": {},
   "outputs": [
    {
     "data": {
      "text/plain": [
       "(189337, 7)"
      ]
     },
     "execution_count": 4,
     "metadata": {},
     "output_type": "execute_result"
    }
   ],
   "source": [
    "df.dropna(inplace=True)\n",
    "df.shape"
   ]
  },
  {
   "cell_type": "code",
   "execution_count": 5,
   "metadata": {},
   "outputs": [
    {
     "name": "stdout",
     "output_type": "stream",
     "text": [
      "Clear                       111008\n",
      "Raining                      33117\n",
      "Overcast                     27681\n",
      "Unknown                      15039\n",
      "Snowing                        901\n",
      "Other                          824\n",
      "Fog/Smog/Smoke                 569\n",
      "Sleet/Hail/Freezing Rain       113\n",
      "Blowing Sand/Dirt               55\n",
      "Severe Crosswind                25\n",
      "Partly Cloudy                    5\n",
      "Name: WEATHER, dtype: int64\n",
      "Dry               124300\n",
      "Wet                47417\n",
      "Unknown            15031\n",
      "Ice                 1206\n",
      "Snow/Slush           999\n",
      "Other                131\n",
      "Standing Water       115\n",
      "Sand/Mud/Dirt         74\n",
      "Oil                   64\n",
      "Name: ROADCOND, dtype: int64\n",
      "Daylight                    116077\n",
      "Dark - Street Lights On      48440\n",
      "Unknown                      13456\n",
      "Dusk                          5889\n",
      "Dawn                          2502\n",
      "Dark - No Street Lights       1535\n",
      "Dark - Street Lights Off      1192\n",
      "Other                          235\n",
      "Dark - Unknown Lighting         11\n",
      "Name: LIGHTCOND, dtype: int64\n"
     ]
    },
    {
     "data": {
      "text/plain": [
       "<seaborn.axisgrid.FacetGrid at 0x7f81670f10b8>"
      ]
     },
     "execution_count": 5,
     "metadata": {},
     "output_type": "execute_result"
    },
    {
     "data": {
      "image/png": "[encoded data removed]",
      "text/plain": [
       "<Figure size 514.375x360 with 1 Axes>"
      ]
     },
     "metadata": {
      "needs_background": "light"
     },
     "output_type": "display_data"
    },
    {
     "data": {
      "image/png": "[encoded data removed]",
      "text/plain": [
       "<Figure size 473.25x360 with 1 Axes>"
      ]
     },
     "metadata": {
      "needs_background": "light"
     },
     "output_type": "display_data"
    },
    {
     "data": {
      "image/png": "[encoded data removed]",
      "text/plain": [
       "<Figure size 519.75x360 with 1 Axes>"
      ]
     },
     "metadata": {
      "needs_background": "light"
     },
     "output_type": "display_data"
    }
   ],
   "source": [
    "print(df['WEATHER'].value_counts())\n",
    "print(df['ROADCOND'].value_counts())\n",
    "print(df['LIGHTCOND'].value_counts())\n",
    "\n",
    "sns.catplot(y=\"SEVERITYCODE\", hue=\"WEATHER\", kind=\"count\",\n",
    "            palette=\"Paired\", edgecolor=\".6\",\n",
    "            data=df)\n",
    "\n",
    "sns.catplot(y=\"SEVERITYCODE\", hue=\"ROADCOND\", kind=\"count\",\n",
    "            palette=\"Paired\", edgecolor=\".6\",\n",
    "            data=df)\n",
    "\n",
    "sns.catplot(y=\"SEVERITYCODE\", hue=\"LIGHTCOND\", kind=\"count\",\n",
    "            palette=\"Paired\", edgecolor=\".6\",\n",
    "            data=df)"
   ]
  },
  {
   "cell_type": "code",
   "execution_count": 6,
   "metadata": {},
   "outputs": [
    {
     "data": {
      "text/plain": [
       "<AxesSubplot:xlabel='SEVERITYCODE', ylabel='count'>"
      ]
     },
     "execution_count": 6,
     "metadata": {},
     "output_type": "execute_result"
    },
    {
     "data": {
      "image/png": "[encoded data removed]",
      "text/plain": [
       "<Figure size 432x288 with 1 Axes>"
      ]
     },
     "metadata": {
      "needs_background": "light"
     },
     "output_type": "display_data"
    }
   ],
   "source": [
    "sns.countplot(df['SEVERITYCODE'], data=df)"
   ]
  },
  {
   "cell_type": "code",
   "execution_count": 7,
   "metadata": {},
   "outputs": [
    {
     "name": "stdout",
     "output_type": "stream",
     "text": [
      "SEVERITYCODE                  int64\n",
      "SEVERITYDESC                 object\n",
      "INCDATE         datetime64[ns, UTC]\n",
      "INCDTTM              datetime64[ns]\n",
      "WEATHER                      object\n",
      "ROADCOND                     object\n",
      "LIGHTCOND                    object\n",
      "dtype: object\n"
     ]
    }
   ],
   "source": [
    "df['INCDATE']= pd.to_datetime(df['INCDATE'])\n",
    "df['INCDTTM']= pd.to_datetime(df['INCDTTM'])\n",
    "print(df.dtypes)"
   ]
  },
  {
   "cell_type": "code",
   "execution_count": 8,
   "metadata": {},
   "outputs": [
    {
     "data": {
      "text/html": [
       "<div>\n",
       "<style scoped>\n",
       "    .dataframe tbody tr th:only-of-type {\n",
       "        vertical-align: middle;\n",
       "    }\n",
       "\n",
       "    .dataframe tbody tr th {\n",
       "        vertical-align: top;\n",
       "    }\n",
       "\n",
       "    .dataframe thead th {\n",
       "        text-align: right;\n",
       "    }\n",
       "</style>\n",
       "<table border=\"1\" class=\"dataframe\">\n",
       "  <thead>\n",
       "    <tr style=\"text-align: right;\">\n",
       "      <th></th>\n",
       "      <th>SEVERITYCODE</th>\n",
       "      <th>SEVERITYDESC</th>\n",
       "      <th>INCDATE</th>\n",
       "      <th>INCDTTM</th>\n",
       "      <th>WEATHER</th>\n",
       "      <th>ROADCOND</th>\n",
       "      <th>LIGHTCOND</th>\n",
       "      <th>dayofweek</th>\n",
       "      <th>hour</th>\n",
       "    </tr>\n",
       "  </thead>\n",
       "  <tbody>\n",
       "    <tr>\n",
       "      <th>0</th>\n",
       "      <td>2</td>\n",
       "      <td>Injury Collision</td>\n",
       "      <td>2013-03-27 00:00:00+00:00</td>\n",
       "      <td>2013-03-27 14:54:00</td>\n",
       "      <td>Overcast</td>\n",
       "      <td>Wet</td>\n",
       "      <td>Daylight</td>\n",
       "      <td>2</td>\n",
       "      <td>14</td>\n",
       "    </tr>\n",
       "    <tr>\n",
       "      <th>1</th>\n",
       "      <td>1</td>\n",
       "      <td>Property Damage Only Collision</td>\n",
       "      <td>2006-12-20 00:00:00+00:00</td>\n",
       "      <td>2006-12-20 18:55:00</td>\n",
       "      <td>Raining</td>\n",
       "      <td>Wet</td>\n",
       "      <td>Dark - Street Lights On</td>\n",
       "      <td>2</td>\n",
       "      <td>18</td>\n",
       "    </tr>\n",
       "    <tr>\n",
       "      <th>2</th>\n",
       "      <td>1</td>\n",
       "      <td>Property Damage Only Collision</td>\n",
       "      <td>2004-11-18 00:00:00+00:00</td>\n",
       "      <td>2004-11-18 10:20:00</td>\n",
       "      <td>Overcast</td>\n",
       "      <td>Dry</td>\n",
       "      <td>Daylight</td>\n",
       "      <td>3</td>\n",
       "      <td>10</td>\n",
       "    </tr>\n",
       "    <tr>\n",
       "      <th>3</th>\n",
       "      <td>1</td>\n",
       "      <td>Property Damage Only Collision</td>\n",
       "      <td>2013-03-29 00:00:00+00:00</td>\n",
       "      <td>2013-03-29 09:26:00</td>\n",
       "      <td>Clear</td>\n",
       "      <td>Dry</td>\n",
       "      <td>Daylight</td>\n",
       "      <td>4</td>\n",
       "      <td>9</td>\n",
       "    </tr>\n",
       "    <tr>\n",
       "      <th>4</th>\n",
       "      <td>2</td>\n",
       "      <td>Injury Collision</td>\n",
       "      <td>2004-01-28 00:00:00+00:00</td>\n",
       "      <td>2004-01-28 08:04:00</td>\n",
       "      <td>Raining</td>\n",
       "      <td>Wet</td>\n",
       "      <td>Daylight</td>\n",
       "      <td>2</td>\n",
       "      <td>8</td>\n",
       "    </tr>\n",
       "  </tbody>\n",
       "</table>\n",
       "</div>"
      ],
      "text/plain": [
       "   SEVERITYCODE                    SEVERITYDESC                   INCDATE  \\\n",
       "0             2                Injury Collision 2013-03-27 00:00:00+00:00   \n",
       "1             1  Property Damage Only Collision 2006-12-20 00:00:00+00:00   \n",
       "2             1  Property Damage Only Collision 2004-11-18 00:00:00+00:00   \n",
       "3             1  Property Damage Only Collision 2013-03-29 00:00:00+00:00   \n",
       "4             2                Injury Collision 2004-01-28 00:00:00+00:00   \n",
       "\n",
       "              INCDTTM   WEATHER ROADCOND                LIGHTCOND  dayofweek  \\\n",
       "0 2013-03-27 14:54:00  Overcast      Wet                 Daylight          2   \n",
       "1 2006-12-20 18:55:00   Raining      Wet  Dark - Street Lights On          2   \n",
       "2 2004-11-18 10:20:00  Overcast      Dry                 Daylight          3   \n",
       "3 2013-03-29 09:26:00     Clear      Dry                 Daylight          4   \n",
       "4 2004-01-28 08:04:00   Raining      Wet                 Daylight          2   \n",
       "\n",
       "   hour  \n",
       "0    14  \n",
       "1    18  \n",
       "2    10  \n",
       "3     9  \n",
       "4     8  "
      ]
     },
     "execution_count": 8,
     "metadata": {},
     "output_type": "execute_result"
    }
   ],
   "source": [
    "df['dayofweek'] = df['INCDATE'].dt.dayofweek\n",
    "df['hour'] = df['INCDTTM'].dt.hour\n",
    "\n",
    "df.head()"
   ]
  },
  {
   "cell_type": "code",
   "execution_count": 9,
   "metadata": {},
   "outputs": [
    {
     "data": {
      "text/plain": [
       "Text(0.5, 1.0, 'Weekday Car accidents by severity')"
      ]
     },
     "execution_count": 9,
     "metadata": {},
     "output_type": "execute_result"
    },
    {
     "data": {
      "image/png": "[encoded data removed]",
      "text/plain": [
       "<Figure size 1296x288 with 2 Axes>"
      ]
     },
     "metadata": {
      "needs_background": "light"
     },
     "output_type": "display_data"
    }
   ],
   "source": [
    "fig, (ax1, ax2) = plt.subplots(ncols=2, figsize=(18, 4))\n",
    "\n",
    "sns.countplot(x=\"dayofweek\", data=df, ax=ax1)\n",
    "sns.countplot(x=\"dayofweek\", hue=\"SEVERITYDESC\", data=df, ax=ax2,palette=\"bright\")\n",
    "plt.xticks(rotation=45)\n",
    "ax1.set_title('Weekday Car accidents (total)')\n",
    "ax2.set_title('Weekday Car accidents by severity')"
   ]
  },
  {
   "cell_type": "code",
   "execution_count": 10,
   "metadata": {},
   "outputs": [
    {
     "data": {
      "text/plain": [
       "Text(0.5, 1.0, 'Hourly car accidents by severity')"
      ]
     },
     "execution_count": 10,
     "metadata": {},
     "output_type": "execute_result"
    },
    {
     "data": {
      "image/png": "[encoded data removed]",
      "text/plain": [
       "<Figure size 1296x288 with 2 Axes>"
      ]
     },
     "metadata": {
      "needs_background": "light"
     },
     "output_type": "display_data"
    }
   ],
   "source": [
    "fig, (ax1, ax2) = plt.subplots(ncols=2, figsize=(18, 4))\n",
    "\n",
    "sns.countplot(x=\"hour\", data=df, ax=ax1)\n",
    "sns.countplot(x=\"hour\", hue=\"SEVERITYDESC\", data=df, ax=ax2,palette=\"bright\")\n",
    "plt.xticks(rotation=45)\n",
    "ax1.set_title('Hourly car accidents (total)')\n",
    "ax2.set_title('Hourly car accidents by severity')"
   ]
  },
  {
   "cell_type": "code",
   "execution_count": 11,
   "metadata": {},
   "outputs": [
    {
     "name": "stdout",
     "output_type": "stream",
     "text": [
      "1     111008\n",
      "6      33117\n",
      "4      27681\n",
      "10     15039\n",
      "9        901\n",
      "3        824\n",
      "2        569\n",
      "8        113\n",
      "0         55\n",
      "7         25\n",
      "5          5\n",
      "Name: WEATHER, dtype: int64\n",
      "0    124300\n",
      "8     47417\n",
      "7     15031\n",
      "1      1206\n",
      "5       999\n",
      "3       131\n",
      "6       115\n",
      "4        74\n",
      "2        64\n",
      "Name: ROADCOND, dtype: int64\n",
      "5    116077\n",
      "2     48440\n",
      "8     13456\n",
      "6      5889\n",
      "4      2502\n",
      "0      1535\n",
      "1      1192\n",
      "7       235\n",
      "3        11\n",
      "Name: LIGHTCOND, dtype: int64\n"
     ]
    }
   ],
   "source": [
    "le = preprocessing.LabelEncoder()\n",
    "df['WEATHER'] = le.fit_transform(df['WEATHER'].astype(str))\n",
    "df['ROADCOND'] = le.fit_transform(df['ROADCOND'].astype(str))\n",
    "df['LIGHTCOND'] = le.fit_transform(df['LIGHTCOND'].astype(str))\n",
    "print(df['WEATHER'].value_counts())\n",
    "print(df['ROADCOND'].value_counts())\n",
    "print(df['LIGHTCOND'].value_counts())"
   ]
  },
  {
   "cell_type": "code",
   "execution_count": 12,
   "metadata": {},
   "outputs": [],
   "source": [
    "Feature = df[['WEATHER','ROADCOND','LIGHTCOND','dayofweek','hour']]\n",
    "X = Feature\n",
    "y = df['SEVERITYCODE'].values"
   ]
  },
  {
   "cell_type": "code",
   "execution_count": 13,
   "metadata": {},
   "outputs": [
    {
     "name": "stderr",
     "output_type": "stream",
     "text": [
      "/home/jupyterlab/conda/envs/python/lib/python3.6/site-packages/sklearn/preprocessing/data.py:625: DataConversionWarning: Data with input dtype int64 were all converted to float64 by StandardScaler.\n",
      "  return self.partial_fit(X, y)\n",
      "/home/jupyterlab/conda/envs/python/lib/python3.6/site-packages/ipykernel_launcher.py:6: DataConversionWarning: Data with input dtype int64 were all converted to float64 by StandardScaler.\n",
      "  \n",
      "/home/jupyterlab/conda/envs/python/lib/python3.6/site-packages/sklearn/preprocessing/data.py:625: DataConversionWarning: Data with input dtype int64 were all converted to float64 by StandardScaler.\n",
      "  return self.partial_fit(X, y)\n",
      "/home/jupyterlab/conda/envs/python/lib/python3.6/site-packages/sklearn/preprocessing/data.py:625: DataConversionWarning: Data with input dtype int64 were all converted to float64 by StandardScaler.\n",
      "  return self.partial_fit(X, y)\n"
     ]
    },
    {
     "data": {
      "text/plain": [
       "array([[ 2.42808457,  1.20211138,  1.51780838, -1.00915533,  0.79850413],\n",
       "       [-0.72900835, -0.71336432,  0.35269964, -1.00915533, -0.4989937 ],\n",
       "       [-0.72900835, -0.71336432,  0.35269964, -0.48950561, -0.35482727],\n",
       "       [-0.72900835,  1.47575077,  0.35269964,  0.03014411, -0.4989937 ],\n",
       "       [-0.72900835, -0.71336432,  0.35269964, -1.52880505,  0.22183843]])"
      ]
     },
     "execution_count": 13,
     "metadata": {},
     "output_type": "execute_result"
    }
   ],
   "source": [
    "from sklearn.model_selection import train_test_split\n",
    "\n",
    "X_train, X_test, y_train, y_test = train_test_split(X, y, test_size=0.3, random_state=0)\n",
    "X_train.head()\n",
    "\n",
    "X= preprocessing.StandardScaler().fit(X).transform(X)\n",
    "X_train = preprocessing.StandardScaler().fit(X_train).transform(X_train.astype(float))\n",
    "X_test = preprocessing.StandardScaler().fit(X_test).transform(X_test.astype(float))\n",
    "X_train[0:5]\n",
    "X_test[0:5]"
   ]
  },
  {
   "cell_type": "code",
   "execution_count": null,
   "metadata": {},
   "outputs": [],
   "source": [
    "from sklearn.neighbors import KNeighborsClassifier\n",
    "from sklearn import metrics\n",
    "\n",
    "Ks = 10\n",
    "mean_acc = np.zeros((Ks-1))\n",
    "std_acc = np.zeros((Ks-1))\n",
    "ConfustionMx = [];\n",
    "for n in range(1,Ks):\n",
    "    \n",
    "    \n",
    "    neigh = KNeighborsClassifier(n_neighbors = n).fit(X_train,y_train)\n",
    "    yhat=neigh.predict(X_test)\n",
    "    mean_acc[n-1] = metrics.accuracy_score(y_test, yhat)\n",
    "\n",
    "    \n",
    "    std_acc[n-1]=np.std(yhat==y_test)/np.sqrt(yhat.shape[0])\n",
    "\n",
    "mean_acc\n",
    "\n",
    "plt.plot(range(1,Ks),mean_acc,'g')\n",
    "plt.fill_between(range(1,Ks),mean_acc - 1 * std_acc,mean_acc + 1 * std_acc, alpha=0.10)\n",
    "plt.legend(('Accuracy ', '+/- 3xstd'))\n",
    "plt.ylabel('Accuracy ')\n",
    "plt.xlabel('Number of Nabors (K)')\n",
    "plt.tight_layout()\n",
    "plt.show()\n",
    "\n",
    "print( \"The best accuracy was with\", mean_acc.max(), \"with k=\", mean_acc.argmax()+1) "
   ]
  },
  {
   "cell_type": "code",
   "execution_count": null,
   "metadata": {},
   "outputs": [],
   "source": [
    "from sklearn.metrics import jaccard_similarity_score\n",
    "from sklearn.metrics import f1_score\n",
    "from sklearn.metrics import log_loss\n",
    "from sklearn.metrics import precision_score\n",
    "\n",
    "from sklearn.neighbors import KNeighborsClassifier\n",
    "knn = KNeighborsClassifier(n_neighbors = 8).fit(X_train, y_train)\n",
    "knn"
   ]
  },
  {
   "cell_type": "code",
   "execution_count": null,
   "metadata": {},
   "outputs": [],
   "source": [
    "from sklearn.linear_model import LogisticRegression\n",
    "from sklearn.metrics import confusion_matrix\n",
    "lr = LogisticRegression(C=0.0001, solver='liblinear')\n",
    "lr.fit(X_train, y_train)\n",
    "lr"
   ]
  },
  {
   "cell_type": "code",
   "execution_count": null,
   "metadata": {},
   "outputs": [],
   "source": [
    "from sklearn.tree import DecisionTreeClassifier\n",
    "\n",
    "tree = DecisionTreeClassifier(criterion=\"entropy\", max_depth = 4)\n",
    "tree.fit(X_train, y_train)\n",
    "tree"
   ]
  },
  {
   "cell_type": "code",
   "execution_count": null,
   "metadata": {},
   "outputs": [],
   "source": [
    "\n",
    "# KNN\n",
    "yhat1 = knn.predict(X_test)\n",
    "kn = yhat1\n",
    "jaccard = jaccard_similarity_score(y_test, yhat1)\n",
    "precision = precision_score(y_test, yhat1, average='weighted')\n",
    "knn_final = ['KNN', round(jaccard,2), round(precision,2)]\n",
    "print(\"Train set KNN Accuracy: \", metrics.accuracy_score(y_train, knn.predict(X_train)))\n",
    "print(\"Test set KNN Accuracy: \", metrics.accuracy_score(y_test, yhat1))\n",
    "# Decission tree \n",
    "yhat1 = tree.predict(X_test)\n",
    "tr = yhat1\n",
    "jaccard = jaccard_similarity_score(y_test, yhat1)\n",
    "precision_tree = precision_score(y_test, yhat1, average='weighted')\n",
    "tree_final = ['Decision Tree', round(jaccard,2),round(precision_tree,2)]\n",
    "print(\"Train set Decission Tree Accuracy: \", metrics.accuracy_score(y_train, tree.predict(X_train)))\n",
    "print(\"Test set Decission Tree Accuracy: \", metrics.accuracy_score(y_test, yhat1))\n",
    "\n",
    "# Logistic regression\n",
    "yhat_proba = lr.predict_proba(X_test)\n",
    "yhat1 = lr.predict(X_test)\n",
    "yhat_lr = yhat1\n",
    "jaccard = jaccard_similarity_score(y_test, yhat1)\n",
    "precision_lr = precision_score(y_test, yhat1, average='weighted')\n",
    "lr_final = ['Logistic Regression', round(jaccard,2),round(precision_lr,2)]\n",
    "print(\"Train set Logistic regression Accuracy: \", metrics.accuracy_score(y_train, lr.predict(X_train)))\n",
    "print(\"Test set Logistic regression Accuracy: \", metrics.accuracy_score(y_test, yhat1))\n"
   ]
  },
  {
   "cell_type": "code",
   "execution_count": null,
   "metadata": {},
   "outputs": [],
   "source": [
    "final = pd.DataFrame(data=np.array([knn_final, tree_final, lr_final]),                                      \n",
    "                      columns=['Algorithm', 'Jaccard', 'Precision'])\n",
    "final"
   ]
  },
  {
   "cell_type": "markdown",
   "metadata": {},
   "source": [
    "## Analysis <a name=\"analysis\"></a>"
   ]
  },
  {
   "cell_type": "markdown",
   "metadata": {},
   "source": [
    "Both Decision Tree and Logistic Regression appear to be equally more accurate than KNN. Both models are about 70% accurate but the precision is lower than KNN.  "
   ]
  },
  {
   "cell_type": "markdown",
   "metadata": {},
   "source": [
    "## Results and Discussion <a name=\"results\"></a>"
   ]
  },
  {
   "cell_type": "markdown",
   "metadata": {},
   "source": [
    "The insight from the exploratory analysis reveals that, at least in the case of Seattle, the majority of accidents are property damage that occur under ideal conditions in the day time. The outlier to that trend is crashes occurring at midnight. An interpretation of this trend is that abnormal conditions are not the major cause of collisions, meaning drivers may be more alert at these times overall. Any solution should focus on what occurs during optimal normal driving conditions, where there are more likely to be more drivers on the road overall. "
   ]
  },
  {
   "cell_type": "markdown",
   "metadata": {},
   "source": [
    "## Conclusion <a name=\"conclusion\"></a>"
   ]
  },
  {
   "cell_type": "markdown",
   "metadata": {},
   "source": [
    "The techniques outlined and utilized in this report can be applied to other cities. Model accuracy would benefit from having more factors. Additionally, having an idea of overall traffic might give more predictive value to how likely a crash might even occur, rather than just the severity of possible crashes. If the results found in this report apply to other cities, local government might want to focus more effort in accident reduction during peak or normal driving times."
   ]
  }
 ],
 "metadata": {
  "kernelspec": {
   "display_name": "Python",
   "language": "python",
   "name": "conda-env-python-py"
  },
  "language_info": {
   "codemirror_mode": {
    "name": "ipython",
    "version": 3
   },
   "file_extension": ".py",
   "mimetype": "text/x-python",
   "name": "python",
   "nbconvert_exporter": "python",
   "pygments_lexer": "ipython3",
   "version": "3.6.11"
  }
 },
 "nbformat": 4,
 "nbformat_minor": 4
}
